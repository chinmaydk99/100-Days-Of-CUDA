{
  "nbformat": 4,
  "nbformat_minor": 0,
  "metadata": {
    "colab": {
      "provenance": [],
      "gpuType": "T4"
    },
    "kernelspec": {
      "name": "python3",
      "display_name": "Python 3"
    },
    "language_info": {
      "name": "python"
    },
    "accelerator": "GPU"
  },
  "cells": [
    {
      "cell_type": "code",
      "source": [
        "import torch\n",
        "import triton\n",
        "import triton.language as tl\n",
        "import matplotlib.pyplot as plt\n",
        "import cv2\n",
        "import numpy as np"
      ],
      "metadata": {
        "id": "7kyhUD_RDvC6"
      },
      "execution_count": 19,
      "outputs": []
    },
    {
      "cell_type": "code",
      "source": [
        "@triton.jit\n",
        "def conv2d_kernel(\n",
        "    input_ptr, output_ptr, filter_ptr, H, W,\n",
        "    BLOCK_SIZE: tl.constexpr\n",
        "):\n",
        "    row = tl.program_id(0) * BLOCK_SIZE + tl.arange(0, BLOCK_SIZE)\n",
        "    col = tl.program_id(1) * BLOCK_SIZE + tl.arange(0, BLOCK_SIZE)\n",
        "\n",
        "    mask = (row < H) & (col < W)\n",
        "\n",
        "    result = tl.zeros([BLOCK_SIZE], dtype=tl.float32)\n",
        "\n",
        "    for i in range(-1, 2):\n",
        "        for j in range(-1, 2):\n",
        "            row_idx = row + i\n",
        "            col_idx = col + j\n",
        "            in_bounds = (row_idx >= 0) & (row_idx < H) & (col_idx >= 0) & (col_idx < W)\n",
        "            input_val = tl.load(input_ptr + row_idx * W + col_idx, mask=in_bounds, other=0.0)\n",
        "\n",
        "            filter_val = tl.load(filter_ptr + (i + 1) * 3 + (j + 1))\n",
        "            result += input_val * filter_val\n",
        "\n",
        "    tl.store(output_ptr + row * W + col, result, mask=mask)"
      ],
      "metadata": {
        "id": "PHhrGh0oC2zH"
      },
      "execution_count": 16,
      "outputs": []
    },
    {
      "cell_type": "code",
      "source": [
        "def load_image(image_path, target_size = (128, 128)):\n",
        "    image = cv2.imread(image_path, cv2.IMREAD_GRAYSCALE)\n",
        "    image = cv2.resize(image, target_size)\n",
        "    image = image.astype(np.float32) / 255.0\n",
        "    return image"
      ],
      "metadata": {
        "id": "ct2OEXqQFra0"
      },
      "execution_count": 20,
      "outputs": []
    },
    {
      "cell_type": "code",
      "source": [
        "H, W = 128, 128\n",
        "BLOCK_SIZE = 16\n",
        "\n",
        "input_image = torch.rand((H, W), dtype=torch.float32, device='cuda')\n",
        "output_image = torch.empty((H, W), dtype=torch.float32, device='cuda')\n",
        "\n",
        "conv_filter = torch.tensor([\n",
        "    [ 0, -1,  0],\n",
        "    [-1,  4, -1],\n",
        "    [ 0, -1,  0]\n",
        "], dtype=torch.float32, device='cuda').flatten()\n",
        "\n",
        "grid = ((H + BLOCK_SIZE - 1) // BLOCK_SIZE, (W + BLOCK_SIZE - 1) // BLOCK_SIZE)\n",
        "\n",
        "conv2d_kernel[grid](input_image, output_image, conv_filter, H, W, BLOCK_SIZE=BLOCK_SIZE)"
      ],
      "metadata": {
        "colab": {
          "base_uri": "https://localhost:8080/"
        },
        "id": "7ZhsqMrkD-cZ",
        "outputId": "3d52b3fd-50dd-409b-b850-c5ce987d495e"
      },
      "execution_count": 22,
      "outputs": [
        {
          "output_type": "execute_result",
          "data": {
            "text/plain": [
              "<triton.compiler.compiler.CompiledKernel at 0x7f28b91b1b10>"
            ]
          },
          "metadata": {},
          "execution_count": 22
        }
      ]
    },
    {
      "cell_type": "code",
      "source": [
        "input_cpu = input_image.cpu().numpy()\n",
        "output_cpu = output_image.cpu().numpy()\n",
        "\n",
        "fig, axes = plt.subplots(1, 2, figsize=(10, 5))\n",
        "axes[0].imshow(input_cpu, cmap='gray')\n",
        "axes[0].set_title(\"Input Image\")\n",
        "axes[0].axis(\"off\")\n",
        "\n",
        "axes[1].imshow(output_cpu, cmap='gray')\n",
        "axes[1].set_title(\"Filtered Image (Edge Detection)\")\n",
        "axes[1].axis(\"off\")\n",
        "\n",
        "plt.show()"
      ],
      "metadata": {
        "id": "0QONij5SDPbP"
      },
      "execution_count": 24,
      "outputs": []
    },
    {
      "cell_type": "code",
      "source": [],
      "metadata": {
        "id": "eLf4S--YEYg4"
      },
      "execution_count": null,
      "outputs": []
    }
  ]
}