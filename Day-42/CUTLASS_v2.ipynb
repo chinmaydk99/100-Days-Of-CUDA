{
  "nbformat": 4,
  "nbformat_minor": 0,
  "metadata": {
    "colab": {
      "provenance": [],
      "gpuType": "T4"
    },
    "kernelspec": {
      "name": "python3",
      "display_name": "Python 3"
    },
    "language_info": {
      "name": "python"
    },
    "accelerator": "GPU"
  },
  "cells": [
    {
      "cell_type": "code",
      "execution_count": 1,
      "metadata": {
        "colab": {
          "base_uri": "https://localhost:8080/"
        },
        "id": "b7v6L6aM-Sgv",
        "outputId": "cc6c2016-b88a-4285-c358-2e3b04f0cfb1"
      },
      "outputs": [
        {
          "output_type": "stream",
          "name": "stdout",
          "text": [
            "Cloning into 'cutlass'...\n",
            "remote: Enumerating objects: 32604, done.\u001b[K\n",
            "remote: Counting objects: 100% (522/522), done.\u001b[K\n",
            "remote: Compressing objects: 100% (278/278), done.\u001b[K\n",
            "remote: Total 32604 (delta 351), reused 244 (delta 244), pack-reused 32082 (from 3)\u001b[K\n",
            "Receiving objects: 100% (32604/32604), 49.06 MiB | 10.85 MiB/s, done.\n",
            "Resolving deltas: 100% (24585/24585), done.\n",
            "Updating files: 100% (6241/6241), done.\n",
            "/content/cutlass\n",
            "Switched to a new branch 'v2.10'\n"
          ]
        }
      ],
      "source": [
        "!git clone https://github.com/NVIDIA/cutlass.git\n",
        "%cd cutlass\n",
        "!git checkout tags/v2.10.0 -b v2.10"
      ]
    },
    {
      "cell_type": "code",
      "source": [
        "%cd /content"
      ],
      "metadata": {
        "colab": {
          "base_uri": "https://localhost:8080/"
        },
        "id": "NpOSfoZG-0wT",
        "outputId": "74389479-98f8-4281-86c1-5acf6086c355"
      },
      "execution_count": 7,
      "outputs": [
        {
          "output_type": "stream",
          "name": "stdout",
          "text": [
            "/content\n"
          ]
        }
      ]
    },
    {
      "cell_type": "code",
      "source": [
        "!pwd"
      ],
      "metadata": {
        "colab": {
          "base_uri": "https://localhost:8080/"
        },
        "id": "Z_Qvl97J-8Yq",
        "outputId": "0133beee-3387-42ae-8a6f-70a42a084daa"
      },
      "execution_count": 8,
      "outputs": [
        {
          "output_type": "stream",
          "name": "stdout",
          "text": [
            "/content\n"
          ]
        }
      ]
    },
    {
      "cell_type": "code",
      "source": [
        "!nvcc -I cutlass/include -I cutlass/tools/util/include -gencode=arch=compute_75,code=sm_75 basic_gemm.cu -o basic_gemm"
      ],
      "metadata": {
        "id": "WlQkiOYt-XUf"
      },
      "execution_count": 12,
      "outputs": []
    },
    {
      "cell_type": "code",
      "source": [
        "!./basic_gemm"
      ],
      "metadata": {
        "colab": {
          "base_uri": "https://localhost:8080/"
        },
        "id": "Z95Uvas5-y5j",
        "outputId": "83bf087d-6449-4eeb-b49b-50eba4bcbab8"
      },
      "execution_count": 13,
      "outputs": [
        {
          "output_type": "stream",
          "name": "stdout",
          "text": [
            "GEMM took: 0.287648 ms\n",
            "0 0 0 0 \n",
            "0 0 0 0 \n",
            "0 0 0 0 \n",
            "0 0 0 0 \n"
          ]
        }
      ]
    },
    {
      "cell_type": "code",
      "source": [],
      "metadata": {
        "id": "ZwSqCJtF_RET"
      },
      "execution_count": 11,
      "outputs": []
    }
  ]
}