{
  "nbformat": 4,
  "nbformat_minor": 0,
  "metadata": {
    "colab": {
      "provenance": [],
      "machine_shape": "hm",
      "gpuType": "T4"
    },
    "kernelspec": {
      "name": "python3",
      "display_name": "Python 3"
    },
    "language_info": {
      "name": "python"
    },
    "accelerator": "GPU"
  },
  "cells": [
    {
      "cell_type": "code",
      "execution_count": null,
      "metadata": {
        "id": "urQNF0XKYByD"
      },
      "outputs": [],
      "source": [
        "import torch\n",
        "import triton\n",
        "import triton.language as tl"
      ]
    },
    {
      "cell_type": "code",
      "source": [
        "DEVICE = torch.device(\"cuda\" if torch.cuda.is_available() else \"cpu\")"
      ],
      "metadata": {
        "id": "YYtxqAF5YVdD"
      },
      "execution_count": null,
      "outputs": []
    },
    {
      "cell_type": "markdown",
      "source": [
        "### Naive softmax"
      ],
      "metadata": {
        "id": "IasDARgMU1LV"
      }
    },
    {
      "cell_type": "code",
      "source": [
        "DEVICE"
      ],
      "metadata": {
        "colab": {
          "base_uri": "https://localhost:8080/"
        },
        "id": "r6_aitF6df_M",
        "outputId": "feb30f79-cc2b-4799-cea9-79488f81dde2"
      },
      "execution_count": null,
      "outputs": [
        {
          "output_type": "execute_result",
          "data": {
            "text/plain": [
              "device(type='cuda')"
            ]
          },
          "metadata": {},
          "execution_count": 3
        }
      ]
    },
    {
      "cell_type": "code",
      "source": [
        "def naive_softmax(x:torch.Tensor) -> torch.Tensor:\n",
        "    x_max = x.max(dim = 1)[0]\n",
        "    z = x - x_max[:, None] # Aligning shapes\n",
        "    numerator = torch.exp(z)\n",
        "    denominator = torch.sum(numerator, axis = 1)\n",
        "    output = numerator / denominator.unsqueeze(1)\n",
        "    return output"
      ],
      "metadata": {
        "id": "_ambluQIU3gL"
      },
      "execution_count": null,
      "outputs": []
    },
    {
      "cell_type": "code",
      "source": [
        "x = torch.Tensor([[2, 3, 10], [1, 1, 2]])\n",
        "naive_softmax(x)"
      ],
      "metadata": {
        "colab": {
          "base_uri": "https://localhost:8080/"
        },
        "id": "Y5y79UfbVzlF",
        "outputId": "ee5c4aca-2e04-4715-ec19-cfcad3786aae"
      },
      "execution_count": 30,
      "outputs": [
        {
          "output_type": "execute_result",
          "data": {
            "text/plain": [
              "tensor([[3.3504e-04, 9.1075e-04, 9.9875e-01],\n",
              "        [2.1194e-01, 2.1194e-01, 5.7612e-01]])"
            ]
          },
          "metadata": {},
          "execution_count": 30
        }
      ]
    },
    {
      "cell_type": "code",
      "source": [
        "@triton.jit\n",
        "def softmax_kernel(input_ptr, output_ptr, input_row_stride, output_row_stride, n_cols, BLOCK_SIZE: tl.constexpr):\n",
        "    # Since the row calculations in softmax are independent, we can parallelize across rows\n",
        "    row_idx = tl.program_id(0)\n",
        "    row_start_ptr = input_ptr + row_idx*input_row_stride\n",
        "\n",
        "    # We choose BLOCK_SIZE as the next power of 2 greater than n_cols\n",
        "    col_offsets = tl.arange(0,BLOCK_SIZE)\n",
        "\n",
        "    # Moving to the specific elements within the row\n",
        "    input_ptrs = row_start_ptr + col_offsets\n",
        "\n",
        "    mask = col_offsets < n_cols\n",
        "\n",
        "    row = tl.load(input_ptrs, mask = mask, other= -float(\"inf\"))\n",
        "\n",
        "    # Maximum for each row\n",
        "    row_max = tl.max(row, axis=0)\n",
        "\n",
        "    # Exponentiation\n",
        "    numerator = tl.exp(row - row_max)\n",
        "\n",
        "    # Summing the numerator\n",
        "    denominator = tl.sum(numerator, axis=0)\n",
        "\n",
        "    softmax_output = numerator / denominator\n",
        "\n",
        "    # Storing the output\n",
        "    output_start_ptr = output_ptr + row_idx * output_row_stride\n",
        "    output_ptrs = output_start_ptr + col_offsets\n",
        "    tl.store(output_ptrs, softmax_output, mask=mask)\n",
        "\n",
        "# Potential improvements : Using make_block_ptr to vectorize the operations"
      ],
      "metadata": {
        "id": "cEChdjNsV5tP"
      },
      "execution_count": 47,
      "outputs": []
    },
    {
      "cell_type": "code",
      "source": [
        "def softmax(x):\n",
        "    n_rows, n_cols = x.shape\n",
        "\n",
        "    BLOCK_SIZE = triton.next_power_of_2(n_cols)\n",
        "\n",
        "    # Another trick we can use is to ask the compiler to use more threads per row by increasing the number of warps (`num_warps`) over which each row is distributed. I need to learn more about this and autotuning\n",
        "\n",
        "    num_warps = 4\n",
        "    if BLOCK_SIZE >= 2048:\n",
        "        num_warps = 8\n",
        "    if BLOCK_SIZE >= 4096:\n",
        "        num_warps = 16\n",
        "\n",
        "    y = torch.empty_like(x)\n",
        "\n",
        "    softmax_kernel[(n_rows,)](x, y, x.stride(0), y.stride(0), n_cols, BLOCK_SIZE, num_warps=num_warps)\n",
        "    # No need for meta parameters because number of blocks doesn't vary with block size. We are launching one thread block per row\n",
        "\n",
        "    return y"
      ],
      "metadata": {
        "id": "VRjMSohLmEwv"
      },
      "execution_count": 48,
      "outputs": []
    },
    {
      "cell_type": "code",
      "source": [
        "torch.manual_seed(0)\n",
        "x = torch.randn(1823, 781, device=DEVICE)\n",
        "y_triton = softmax(x)\n",
        "y_torch = torch.softmax(x, axis=1)\n",
        "assert torch.allclose(y_triton, y_torch), (y_triton, y_torch)"
      ],
      "metadata": {
        "id": "azhNG9K2nkr3"
      },
      "execution_count": 49,
      "outputs": []
    },
    {
      "cell_type": "code",
      "source": [
        "@triton.testing.perf_report(\n",
        "    triton.testing.Benchmark(\n",
        "        x_names=['N'],\n",
        "        x_vals=[128 * i for i in range(2, 100)],\n",
        "        line_arg='provider',\n",
        "        line_vals=['triton', 'torch'],\n",
        "        line_names=[\n",
        "            \"Triton\",\n",
        "            \"Torch\",\n",
        "        ],\n",
        "        styles=[('blue', '-'), ('green', '-')],\n",
        "        ylabel=\"GB/s\",\n",
        "        plot_name=\"softmax-performance\",\n",
        "        args={'M': 4096},\n",
        "\n",
        "    ))\n",
        "def benchmark(M, N, provider):\n",
        "    x = torch.randn(M, N, device=DEVICE, dtype=torch.float32)\n",
        "    stream = getattr(torch, DEVICE.type).Stream()\n",
        "    getattr(torch, DEVICE.type).set_stream(stream)\n",
        "    if provider == 'torch':\n",
        "        ms = triton.testing.do_bench(lambda: torch.softmax(x, axis=-1))\n",
        "    if provider == 'triton':\n",
        "        ms = triton.testing.do_bench(lambda: softmax(x))\n",
        "    gbps = lambda ms: 2 * x.numel() * x.element_size() * 1e-9 / (ms * 1e-3)\n",
        "    return gbps(ms)\n",
        "\n",
        "\n",
        "benchmark.run(show_plots=True, print_data=True)"
      ],
      "metadata": {
        "colab": {
          "base_uri": "https://localhost:8080/",
          "height": 1000
        },
        "id": "Qya3MCd_o6H0",
        "outputId": "c2160629-3080-4f59-8b61-a61fff172d56"
      },
      "execution_count": 50,
      "outputs": [
        {
          "output_type": "display_data",
          "data": {
            "text/plain": [
              "<Figure size 640x480 with 1 Axes>"
            ],
            "image/png": "[encoded data removed]"
          },
          "metadata": {}
        },
        {
          "output_type": "stream",
          "name": "stdout",
          "text": [
            "softmax-performance:\n",
            "          N      Triton       Torch\n",
            "0     256.0  154.352360  206.218481\n",
            "1     384.0  230.373836  218.724630\n",
            "2     512.0  224.627219  217.140883\n",
            "3     640.0  225.371980  215.076020\n",
            "4     768.0  226.387502  216.172962\n",
            "5     896.0  226.983580  211.588821\n",
            "6    1024.0  226.984760  211.886099\n",
            "7    1152.0  230.033170  146.205965\n",
            "8    1280.0  229.250125  158.940876\n",
            "9    1408.0  230.013784  171.600207\n",
            "10   1536.0  229.543761  181.275901\n",
            "11   1664.0  230.159587  194.043756\n",
            "12   1792.0  229.734956  205.376864\n",
            "13   1920.0  229.781494  213.445596\n",
            "14   2048.0  229.756337  224.688991\n",
            "15   2176.0  235.645851  227.181725\n",
            "16   2304.0  234.855332  233.849003\n",
            "17   2432.0  234.321746  236.387370\n",
            "18   2560.0  233.930284  239.511527\n",
            "19   2688.0  233.706152  241.397359\n",
            "20   2816.0  233.430484  242.155505\n",
            "21   2944.0  233.327317  242.694724\n",
            "22   3072.0  233.767056  243.173420\n",
            "23   3200.0  233.182955  243.015046\n",
            "24   3328.0  233.136953  242.900298\n",
            "25   3456.0  232.970487  242.549671\n",
            "26   3584.0  232.986576  243.531243\n",
            "27   3712.0  233.123599  243.303523\n",
            "28   3840.0  232.970258  243.176018\n",
            "29   3968.0  232.778819  242.927655\n",
            "30   4096.0  232.655000  243.352368\n",
            "31   4224.0  232.363361  175.783271\n",
            "32   4352.0  232.492070  184.866275\n",
            "33   4480.0  232.219891  178.044275\n",
            "34   4608.0  232.281370  179.220082\n",
            "35   4736.0  232.226657  188.268155\n",
            "36   4864.0  232.085054  212.199720\n",
            "37   4992.0  231.594293  227.534919\n",
            "38   5120.0  232.146455  234.007396\n",
            "39   5248.0  232.260645  237.776504\n",
            "40   5376.0  232.228456  240.961677\n",
            "41   5504.0  231.931816  240.635811\n",
            "42   5632.0  232.072379  241.879236\n",
            "43   5760.0  232.092943  241.893317\n",
            "44   5888.0  232.199397  241.957165\n",
            "45   6016.0  231.441873  241.342334\n",
            "46   6144.0  231.672177  242.303419\n",
            "47   6272.0  231.529367  241.827946\n",
            "48   6400.0  231.539455  242.089328\n",
            "49   6528.0  231.455053  241.810114\n",
            "50   6656.0  231.475986  241.963044\n",
            "51   6784.0  231.173162  241.456989\n",
            "52   6912.0  231.640550  242.019104\n",
            "53   7040.0  231.337855  241.532177\n",
            "54   7168.0  231.212161  241.524422\n",
            "55   7296.0  231.137110  241.548952\n",
            "56   7424.0  231.377240  241.875804\n",
            "57   7552.0  200.073669  194.314120\n",
            "58   7680.0  221.468059  240.646725\n",
            "59   7808.0  230.818578  240.527241\n",
            "60   7936.0  231.059299  241.259908\n",
            "61   8064.0  231.218884  241.016049\n",
            "62   8192.0  230.842975  238.530940\n",
            "63   8320.0  230.483699  188.834276\n",
            "64   8448.0  231.127184  193.499502\n",
            "65   8576.0  230.772530  187.666402\n",
            "66   8704.0  231.064124  190.643096\n",
            "67   8832.0  230.969774  187.590043\n",
            "68   8960.0  230.988646  189.941116\n",
            "69   9088.0  230.544320  188.480587\n",
            "70   9216.0  230.735371  189.108106\n",
            "71   9344.0  230.595315  189.318742\n",
            "72   9472.0  230.671959  192.111768\n",
            "73   9600.0  230.274061  193.178184\n",
            "74   9728.0  230.533722  195.705268\n",
            "75   9856.0  230.497071  196.132201\n",
            "76   9984.0  230.762687  198.678438\n",
            "77  10112.0  230.462944  199.018470\n",
            "78  10240.0  230.291042  203.008468\n",
            "79  10368.0  230.291232  202.563859\n",
            "80  10496.0  230.451838  206.148232\n",
            "81  10624.0  230.064126  192.215974\n",
            "82  10752.0  199.404453  196.051468\n",
            "83  10880.0  229.873370  209.608116\n",
            "84  11008.0  229.969019  212.480084\n",
            "85  11136.0  230.484998  213.121228\n",
            "86  11264.0  230.081059  217.004347\n",
            "87  11392.0  229.821900  216.048142\n",
            "88  11520.0  230.152888  217.821765\n",
            "89  11648.0  229.731768  219.237716\n",
            "90  11776.0  230.183277  223.751923\n",
            "91  11904.0  229.849414  223.226815\n",
            "92  12032.0  229.831010  226.321845\n",
            "93  12160.0  229.726030  226.985498\n",
            "94  12288.0  229.844085  203.400163\n",
            "95  12416.0  229.621438  205.783533\n",
            "96  12544.0  229.935720  202.780846\n",
            "97  12672.0  229.751121  201.647825\n"
          ]
        }
      ]
    },
    {
      "cell_type": "code",
      "source": [],
      "metadata": {
        "id": "QZNEL3NzpilL"
      },
      "execution_count": null,
      "outputs": []
    }
  ]
}