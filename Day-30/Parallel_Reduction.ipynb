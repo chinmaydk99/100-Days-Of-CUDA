{
  "nbformat": 4,
  "nbformat_minor": 0,
  "metadata": {
    "colab": {
      "provenance": [],
      "gpuType": "T4"
    },
    "kernelspec": {
      "name": "python3",
      "display_name": "Python 3"
    },
    "language_info": {
      "name": "python"
    },
    "accelerator": "GPU"
  },
  "cells": [
    {
      "cell_type": "code",
      "execution_count": 1,
      "metadata": {
        "id": "RwTwTrnLWSCH"
      },
      "outputs": [],
      "source": [
        "import torch\n",
        "import triton\n",
        "import triton.language as tl"
      ]
    },
    {
      "cell_type": "markdown",
      "source": [
        "### Naive Torch implementation"
      ],
      "metadata": {
        "id": "mHBED-iuXdpC"
      }
    },
    {
      "cell_type": "code",
      "source": [
        "def naive_reduction(x:torch.Tensor):\n",
        "  return torch.sum(x)"
      ],
      "metadata": {
        "id": "YDD0MK2IWyf_"
      },
      "execution_count": 19,
      "outputs": []
    },
    {
      "cell_type": "code",
      "source": [
        "@triton.jit\n",
        "def add_fn(a, b):\n",
        "  return a + b"
      ],
      "metadata": {
        "id": "LJbY1mQKfO1T"
      },
      "execution_count": 27,
      "outputs": []
    },
    {
      "cell_type": "code",
      "source": [
        "@triton.jit\n",
        "def reduction_kernel(x_ptr, y_ptr, N, BLOCK_SIZE: tl.constexpr):\n",
        "  pid = tl.program_id(0)\n",
        "  offset = pid * BLOCK_SIZE + tl.arange(0, BLOCK_SIZE)\n",
        "\n",
        "  mask = offset < N\n",
        "  x = tl.load(x_ptr + offset, mask = mask, other = 0.0)\n",
        "\n",
        "  block_sum = tl.reduce(x, axis=0, combine_fn=add_fn)\n",
        "\n",
        "  tl.atomic_add(y_ptr, block_sum)"
      ],
      "metadata": {
        "id": "IkNoC59KYXNS"
      },
      "execution_count": 32,
      "outputs": []
    },
    {
      "cell_type": "code",
      "source": [
        "def parallel_reduction(x:torch.Tensor):\n",
        "  N = x.shape[0]\n",
        "\n",
        "  output = torch.zeros(1, device = \"cuda\")\n",
        "\n",
        "  BLOCK_SIZE = 128\n",
        "  grid = (triton.cdiv(N, BLOCK_SIZE),)\n",
        "\n",
        "  reduction_kernel[grid](x, output, N, BLOCK_SIZE=BLOCK_SIZE)\n",
        "\n",
        "  return output.item()"
      ],
      "metadata": {
        "id": "y3AB9K_bXjys"
      },
      "execution_count": 33,
      "outputs": []
    },
    {
      "cell_type": "code",
      "source": [
        "import time\n",
        "\n",
        "N = 1024 * 1024\n",
        "\n",
        "x = torch.randn(N, device=\"cuda\")\n",
        "\n",
        "start = time.time()\n",
        "cpu_result = naive_reduction(x)\n",
        "end = time.time()\n",
        "print(f\"Naïve CPU Reduction Time: {end - start:.6f} sec\")\n",
        "\n",
        "start = time.time()\n",
        "gpu_result = parallel_reduction(x)\n",
        "end = time.time()\n",
        "print(f\"Parallel GPU Reduction Time: {end - start:.6f} sec\")\n",
        "\n",
        "print(f\"Results Match: {torch.isclose(torch.tensor(cpu_result), torch.tensor(gpu_result), atol=1e-4)}\")\n"
      ],
      "metadata": {
        "colab": {
          "base_uri": "https://localhost:8080/"
        },
        "id": "ZSVVotPfct5a",
        "outputId": "da41340e-d613-4d68-f6c5-fc55f7ac77d4"
      },
      "execution_count": 38,
      "outputs": [
        {
          "output_type": "stream",
          "name": "stdout",
          "text": [
            "Naïve CPU Reduction Time: 0.000352 sec\n",
            "Parallel GPU Reduction Time: 0.000745 sec\n",
            "Results Match: True\n"
          ]
        },
        {
          "output_type": "stream",
          "name": "stderr",
          "text": [
            "<ipython-input-38-8a26f8110f33>:17: UserWarning: To copy construct from a tensor, it is recommended to use sourceTensor.clone().detach() or sourceTensor.clone().detach().requires_grad_(True), rather than torch.tensor(sourceTensor).\n",
            "  print(f\"Results Match: {torch.isclose(torch.tensor(cpu_result), torch.tensor(gpu_result), atol=1e-4)}\")\n"
          ]
        }
      ]
    },
    {
      "cell_type": "code",
      "source": [
        "DEVICE = torch.device(\"cuda\")"
      ],
      "metadata": {
        "id": "8NEdeDb_kHLL"
      },
      "execution_count": 48,
      "outputs": []
    },
    {
      "cell_type": "code",
      "source": [
        "@triton.testing.perf_report(\n",
        "    triton.testing.Benchmark(\n",
        "        x_names=[\"size\"],\n",
        "        x_vals=[2**i for i in range(20, 28)],\n",
        "        x_log=True,\n",
        "        line_arg=\"provider\",\n",
        "        line_vals=[\"triton\", \"torch\"],\n",
        "        line_names=[\"Triton\", \"Torch\"],\n",
        "        styles=[(\"blue\", \"-\"), (\"green\", \"-\")],\n",
        "        ylabel=\"ms\",\n",
        "        plot_name=\"reduction-performance\",\n",
        "        args={}\n",
        "  )\n",
        ")\n",
        "def benchmark(size, provider):\n",
        "    x = torch.randn(size, device=DEVICE, dtype=torch.float32)\n",
        "    quantiles = [0.5, 0.2, 0.8]\n",
        "    if provider == \"torch\":\n",
        "        ms, min_ms, max_ms = triton.testing.do_bench(lambda: torch.sum(x), quantiles=quantiles)\n",
        "    elif provider == \"triton\":\n",
        "        ms, min_ms, max_ms = triton.testing.do_bench(lambda: parallel_reduction(x), quantiles=quantiles)\n",
        "    return ms, min_ms, max_ms"
      ],
      "metadata": {
        "id": "PUNHD8n2j3bL"
      },
      "execution_count": 50,
      "outputs": []
    },
    {
      "cell_type": "code",
      "source": [
        "benchmark.run(print_data=True, show_plots=True)"
      ],
      "metadata": {
        "colab": {
          "base_uri": "https://localhost:8080/",
          "height": 628
        },
        "id": "kwpLdj_Qj4jM",
        "outputId": "4066493c-a97e-41d2-ff0c-614812ace0db"
      },
      "execution_count": 51,
      "outputs": [
        {
          "output_type": "display_data",
          "data": {
            "text/plain": [
              "<Figure size 640x480 with 1 Axes>"
            ],
            "image/png": "[encoded data removed]"
          },
          "metadata": {}
        },
        {
          "output_type": "stream",
          "name": "stdout",
          "text": [
            "reduction-performance:\n",
            "          size    Triton     Torch\n",
            "0    1048576.0  0.111600  0.036848\n",
            "1    2097152.0  0.134192  0.052960\n",
            "2    4194304.0  0.165152  0.079744\n",
            "3    8388608.0  0.295360  0.139360\n",
            "4   16777216.0  0.558880  0.261728\n",
            "5   33554432.0  1.100528  0.505760\n",
            "6   67108864.0  2.413600  0.985088\n",
            "7  134217728.0  4.560112  1.951680\n"
          ]
        }
      ]
    },
    {
      "cell_type": "markdown",
      "source": [
        "### Two stage approach to get rid of atomic operations"
      ],
      "metadata": {
        "id": "KDlGeAQkk0B7"
      }
    },
    {
      "cell_type": "code",
      "source": [
        "@triton.jit\n",
        "def add(a,b):\n",
        "  return a + b"
      ],
      "metadata": {
        "id": "lTfSweqtls0k"
      },
      "execution_count": 57,
      "outputs": []
    },
    {
      "cell_type": "code",
      "source": [
        "@triton.jit\n",
        "def local_reduce_kernel(x_ptr, intermediate_ptr, N, BLOCK_SIZE: tl.constexpr):\n",
        "  pid = tl.program_id(0)\n",
        "  offsets = pid * BLOCK_SIZE + tl.arange(0, BLOCK_SIZE)\n",
        "\n",
        "  mask = offsets < N\n",
        "  x = tl.load(x_ptr + offsets, mask = mask, other = 0.0)\n",
        "\n",
        "  block_sum = tl.reduce(x, axis=0, combine_fn=add)\n",
        "\n",
        "  tl.store(intermediate_ptr + pid, block_sum)"
      ],
      "metadata": {
        "id": "1yVztsdSkaRd"
      },
      "execution_count": 58,
      "outputs": []
    },
    {
      "cell_type": "code",
      "source": [
        "@triton.jit\n",
        "def final_reduce_kernel(intermediate_ptr, y_ptr, num_blocks, BLOCK_SIZE:tl.constexpr):\n",
        "  pid = tl.program_id(0)\n",
        "  offsets = pid * BLOCK_SIZE + tl.arange(0, BLOCK_SIZE)\n",
        "\n",
        "  mask = offsets < num_blocks\n",
        "  intermediate_sum = tl.load(intermediate_ptr + offsets, mask = mask, other = 0.0)\n",
        "\n",
        "  final_sum = tl.reduce(intermediate_sum, axis=0, combine_fn=add)\n",
        "\n",
        "  tl.atomic_add(y_ptr, final_sum)"
      ],
      "metadata": {
        "id": "H0ZJNGe9lNYf"
      },
      "execution_count": 59,
      "outputs": []
    },
    {
      "cell_type": "code",
      "source": [
        "def hierarchical_reduce(x: torch.Tensor, BLOCK_SIZE=1024) -> torch.Tensor:\n",
        "    assert x.is_cuda, \"Input must be on GPU\"\n",
        "\n",
        "    # Stage 1: Partial Reduction Across Blocks\n",
        "    N = x.numel()\n",
        "    num_blocks = (N + BLOCK_SIZE - 1) // BLOCK_SIZE\n",
        "    partial_sums = torch.empty(num_blocks, device=x.device, dtype=x.dtype)\n",
        "\n",
        "    grid = (num_blocks,)\n",
        "    local_reduce_kernel[grid](x, partial_sums, N, BLOCK_SIZE=BLOCK_SIZE)\n",
        "\n",
        "\n",
        "    # Stage 2: Aggregating them and performing final reduction\n",
        "    out = torch.zeros(1, device=x.device, dtype=x.dtype)\n",
        "\n",
        "    final_num_blocks = (num_blocks + BLOCK_SIZE - 1) // BLOCK_SIZE\n",
        "    final_reduce_kernel[(final_num_blocks,)](partial_sums, out, num_blocks, BLOCK_SIZE=BLOCK_SIZE)\n",
        "\n",
        "    torch.cuda.synchronize()\n",
        "\n",
        "    return out[0]\n"
      ],
      "metadata": {
        "id": "4lMctxEtlOqk"
      },
      "execution_count": 60,
      "outputs": []
    },
    {
      "cell_type": "code",
      "source": [
        "@triton.testing.perf_report(\n",
        "    triton.testing.Benchmark(\n",
        "        x_names=[\"size\"],\n",
        "        x_vals=[2**i for i in range(20, 32)],\n",
        "        x_log=True,\n",
        "        line_arg=\"provider\",\n",
        "        line_vals=[\"triton\", \"torch\"],\n",
        "        line_names=[\"Triton\", \"Torch\"],\n",
        "        styles=[(\"blue\", \"-\"), (\"green\", \"-\")],\n",
        "        ylabel=\"ms\",\n",
        "        plot_name=\"reduction-performance\",\n",
        "        args={}\n",
        "  )\n",
        ")\n",
        "def benchmark(size, provider):\n",
        "    x = torch.randn(size, device=DEVICE, dtype=torch.float32)\n",
        "    quantiles = [0.5, 0.2, 0.8]\n",
        "    if provider == \"torch\":\n",
        "        ms, min_ms, max_ms = triton.testing.do_bench(lambda: torch.sum(x), quantiles=quantiles)\n",
        "    elif provider == \"triton\":\n",
        "        ms, min_ms, max_ms = triton.testing.do_bench(lambda: hierarchical_reduce(x), quantiles=quantiles)\n",
        "    return ms, min_ms, max_ms"
      ],
      "metadata": {
        "id": "kzHLRmp3lQMv"
      },
      "execution_count": 63,
      "outputs": []
    },
    {
      "cell_type": "code",
      "source": [
        "benchmark.run(print_data=True, show_plots=True)"
      ],
      "metadata": {
        "colab": {
          "base_uri": "https://localhost:8080/",
          "height": 697
        },
        "id": "6RKDEHjblUn6",
        "outputId": "9565734a-c91f-4cb7-a1d2-1466b2977ebb"
      },
      "execution_count": 64,
      "outputs": [
        {
          "output_type": "display_data",
          "data": {
            "text/plain": [
              "<Figure size 640x480 with 1 Axes>"
            ],
            "image/png": "[encoded data removed]"
          },
          "metadata": {}
        },
        {
          "output_type": "stream",
          "name": "stdout",
          "text": [
            "reduction-performance:\n",
            "            size     Triton      Torch\n",
            "0   1.048576e+06   0.077344   0.036768\n",
            "1   2.097152e+06   0.088352   0.050144\n",
            "2   4.194304e+06   0.114784   0.079712\n",
            "3   8.388608e+06   0.186048   0.139392\n",
            "4   1.677722e+07   0.288768   0.260992\n",
            "5   3.355443e+07   0.521184   0.506736\n",
            "6   6.710886e+07   0.992464   0.985088\n",
            "7   1.342177e+08   1.916928   1.951744\n",
            "8   2.684355e+08   3.769088   3.887088\n",
            "9   5.368709e+08   7.452672   7.770752\n",
            "10  1.073742e+09  14.825024  15.522512\n",
            "11  2.147484e+09  29.570688  31.036575\n"
          ]
        }
      ]
    },
    {
      "cell_type": "code",
      "source": [],
      "metadata": {
        "id": "EWgVZZLFlWqG"
      },
      "execution_count": null,
      "outputs": []
    }
  ]
}